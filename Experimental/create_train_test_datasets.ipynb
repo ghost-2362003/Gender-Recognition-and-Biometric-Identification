{
 "cells": [
  {
   "cell_type": "code",
   "execution_count": 1,
   "id": "9d4abf64",
   "metadata": {},
   "outputs": [],
   "source": [
    "import os\n",
    "import shutil"
   ]
  },
  {
   "cell_type": "markdown",
   "id": "6971f3d6",
   "metadata": {},
   "source": [
    "Creating the training dataset"
   ]
  },
  {
   "cell_type": "code",
   "execution_count": null,
   "id": "e6ab2906",
   "metadata": {},
   "outputs": [
    {
     "name": "stdout",
     "output_type": "stream",
     "text": [
      "0\n"
     ]
    }
   ],
   "source": [
    "N_MALE = 2777\n",
    "N_FEMALE = 4976\n",
    "\n",
    "source_male_dir = 'G:/11k_hands/hands/male_hands'\n",
    "destination_male_dir = 'G:/11k_hands/dataset/train/male'\n",
    "\n",
    "for filename in os.listdir(source_male_dir):\n",
    "    if N_MALE>=0:\n",
    "        src_file = os.path.join(source_male_dir, filename)\n",
    "        dst_file = os.path.join(destination_male_dir, filename)\n",
    "        N_MALE -=1\n",
    "        \n",
    "    if os.path.isfile(src_file):\n",
    "        shutil.move(src_file, dst_file)\n",
    "    \n",
    "    if N_MALE == 0:\n",
    "        break\n",
    "        \n",
    "print(N_MALE)"
   ]
  },
  {
   "cell_type": "code",
   "execution_count": 9,
   "id": "f770cf44",
   "metadata": {},
   "outputs": [
    {
     "name": "stdout",
     "output_type": "stream",
     "text": [
      "0\n"
     ]
    }
   ],
   "source": [
    "source_female_dir = 'G:/11k_hands/hands/female_hands'\n",
    "destination_female_dir = 'G:/11k_hands/dataset/train/female'\n",
    "\n",
    "for filename in os.listdir(source_female_dir):\n",
    "    if N_FEMALE>=0:\n",
    "        src_file = os.path.join(source_female_dir, filename)\n",
    "        dst_file = os.path.join(destination_female_dir, filename)\n",
    "        N_FEMALE -=1\n",
    "        \n",
    "    if os.path.isfile(src_file):\n",
    "        shutil.move(src_file, dst_file)\n",
    "    \n",
    "    if N_FEMALE == 0:\n",
    "        break\n",
    "        \n",
    "print(N_FEMALE)"
   ]
  },
  {
   "cell_type": "markdown",
   "id": "4497cda4",
   "metadata": {},
   "source": [
    "Creating the Testing Dataset"
   ]
  },
  {
   "cell_type": "code",
   "execution_count": 10,
   "id": "b1d82bbb",
   "metadata": {},
   "outputs": [
    {
     "name": "stdout",
     "output_type": "stream",
     "text": [
      "0\n"
     ]
    }
   ],
   "source": [
    "TEST_MALE = 1190\n",
    "TEST_FEMALE = 2133\n",
    "\n",
    "source_male_dir = 'G:/11k_hands/hands/male_hands'\n",
    "destination_male_dir = 'G:/11k_hands/dataset/test/male'\n",
    "\n",
    "for filename in os.listdir(source_male_dir):\n",
    "    if TEST_MALE>=0:\n",
    "        src_file = os.path.join(source_male_dir, filename)\n",
    "        dst_file = os.path.join(destination_male_dir, filename)\n",
    "        TEST_MALE -=1\n",
    "        \n",
    "    if os.path.isfile(src_file):\n",
    "        shutil.move(src_file, dst_file)\n",
    "    \n",
    "    if TEST_MALE == 0:\n",
    "        break\n",
    "        \n",
    "print(TEST_MALE)"
   ]
  },
  {
   "cell_type": "code",
   "execution_count": 11,
   "id": "be6b01f5",
   "metadata": {},
   "outputs": [
    {
     "name": "stdout",
     "output_type": "stream",
     "text": [
      "0\n"
     ]
    }
   ],
   "source": [
    "source_female_dir = 'G:/11k_hands/hands/female_hands'\n",
    "destination_female_dir = 'G:/11k_hands/dataset/test/female'\n",
    "\n",
    "for filename in os.listdir(source_female_dir):\n",
    "    if TEST_FEMALE>=0:\n",
    "        src_file = os.path.join(source_female_dir, filename)\n",
    "        dst_file = os.path.join(destination_female_dir, filename)\n",
    "        TEST_FEMALE -=1\n",
    "        \n",
    "    if os.path.isfile(src_file):\n",
    "        shutil.move(src_file, dst_file)\n",
    "    \n",
    "    if TEST_FEMALE == 0:\n",
    "        break\n",
    "        \n",
    "print(TEST_FEMALE)"
   ]
  },
  {
   "cell_type": "code",
   "execution_count": 7,
   "id": "92fb5c00",
   "metadata": {},
   "outputs": [],
   "source": [
    "source_male_dir = 'G:/11k_hands/dataset/train/male'\n",
    "destination_male_dir = 'G:/11k_hands/hands/male_hands'\n",
    "\n",
    "for filename in os.listdir(source_male_dir):\n",
    "    src_file = os.path.join(source_male_dir, filename)\n",
    "    dst_file = os.path.join(destination_male_dir, filename)\n",
    "    if os.path.isfile(src_file):\n",
    "        shutil.move(src_file, dst_file)"
   ]
  }
 ],
 "metadata": {
  "kernelspec": {
   "display_name": "11k_hands",
   "language": "python",
   "name": "python3"
  },
  "language_info": {
   "codemirror_mode": {
    "name": "ipython",
    "version": 3
   },
   "file_extension": ".py",
   "mimetype": "text/x-python",
   "name": "python",
   "nbconvert_exporter": "python",
   "pygments_lexer": "ipython3",
   "version": "3.12.1"
  }
 },
 "nbformat": 4,
 "nbformat_minor": 5
}
